{
  "nbformat": 4,
  "nbformat_minor": 0,
  "metadata": {
    "colab": {
      "name": "CS106.ipynb",
      "provenance": []
    },
    "kernelspec": {
      "name": "python3",
      "display_name": "Python 3"
    },
    "language_info": {
      "name": "python"
    }
  },
  "cells": [
    {
      "cell_type": "code",
      "metadata": {
        "colab": {
          "base_uri": "https://localhost:8080/"
        },
        "id": "11wAeqMzPZ7J",
        "outputId": "eee6f32e-e47d-4f56-8c0d-811edb0f7b29"
      },
      "source": [
        "!pip install ortools\n",
        "!pip install xlsxwriter "
      ],
      "execution_count": 1,
      "outputs": [
        {
          "output_type": "stream",
          "name": "stdout",
          "text": [
            "Requirement already satisfied: ortools in /usr/local/lib/python3.7/dist-packages (9.1.9490)\n",
            "Requirement already satisfied: protobuf>=3.18.0 in /usr/local/lib/python3.7/dist-packages (from ortools) (3.19.0)\n",
            "Requirement already satisfied: absl-py>=0.13 in /usr/local/lib/python3.7/dist-packages (from ortools) (0.15.0)\n",
            "Requirement already satisfied: six in /usr/local/lib/python3.7/dist-packages (from absl-py>=0.13->ortools) (1.15.0)\n",
            "Requirement already satisfied: xlsxwriter in /usr/local/lib/python3.7/dist-packages (3.0.1)\n"
          ]
        }
      ]
    },
    {
      "cell_type": "code",
      "metadata": {
        "colab": {
          "base_uri": "https://localhost:8080/"
        },
        "id": "HFt4JKFoPpeY",
        "outputId": "367c0684-b358-4f2e-9bdc-631cd4d8b720"
      },
      "source": [
        "!git clone https://github.com/likr/kplib"
      ],
      "execution_count": 2,
      "outputs": [
        {
          "output_type": "stream",
          "name": "stdout",
          "text": [
            "fatal: destination path 'kplib' already exists and is not an empty directory.\n"
          ]
        }
      ]
    },
    {
      "cell_type": "code",
      "metadata": {
        "id": "rkAbNgLqWOe2"
      },
      "source": [
        "path = \"/content/kplib\""
      ],
      "execution_count": 3,
      "outputs": []
    },
    {
      "cell_type": "code",
      "metadata": {
        "id": "k71EOVOhYu-r"
      },
      "source": [
        "import os\n",
        "dirs = os.listdir(path)\n",
        "dirs.remove('README.md')\n",
        "dirs.remove('.git')\n",
        "dirs = sorted(dirs)"
      ],
      "execution_count": 4,
      "outputs": []
    },
    {
      "cell_type": "code",
      "metadata": {
        "colab": {
          "base_uri": "https://localhost:8080/"
        },
        "id": "BNWapR_BYwm6",
        "outputId": "06898c06-565f-49ee-bb4c-318dc37f092b"
      },
      "source": [
        "dirs"
      ],
      "execution_count": 5,
      "outputs": [
        {
          "output_type": "execute_result",
          "data": {
            "text/plain": [
              "['00Uncorrelated',\n",
              " '01WeaklyCorrelated',\n",
              " '02StronglyCorrelated',\n",
              " '03InverseStronglyCorrelated',\n",
              " '04AlmostStronglyCorrelated',\n",
              " '05SubsetSum',\n",
              " '06UncorrelatedWithSimilarWeights',\n",
              " '07SpannerUncorrelated',\n",
              " '08SpannerWeaklyCorrelated',\n",
              " '09SpannerStronglyCorrelated',\n",
              " '10MultipleStronglyCorrelated',\n",
              " '11ProfitCeiling',\n",
              " '12Circle']"
            ]
          },
          "metadata": {},
          "execution_count": 5
        }
      ]
    },
    {
      "cell_type": "code",
      "metadata": {
        "id": "UxOvFEMBAO1v"
      },
      "source": [
        "def getData(path):\n",
        "    with open(path) as _:\n",
        "        lines = (line.rstrip() for line in _) \n",
        "        data = list(line for line in lines if line)\n",
        "    return data"
      ],
      "execution_count": 6,
      "outputs": []
    },
    {
      "cell_type": "code",
      "metadata": {
        "id": "qIiN2IvKCY2W"
      },
      "source": [
        "def arrange(data):\n",
        "    capacities = [int(data[1])]\n",
        "    values = []\n",
        "    weights = [[]]\n",
        "    for _ in data[2:]:\n",
        "        value, weight = (int(i) for i in _.split())\n",
        "        values.append(value)\n",
        "        weights[0].append(weight)\n",
        "    return values, weights, capacities"
      ],
      "execution_count": 7,
      "outputs": []
    },
    {
      "cell_type": "code",
      "metadata": {
        "id": "yyc1EDZGFxAR"
      },
      "source": [
        "from ortools.algorithms import pywrapknapsack_solver\n",
        "import time\n",
        "\n",
        "def Solver(data):\n",
        "    # Create the solver.\n",
        "    solver = pywrapknapsack_solver.KnapsackSolver(\n",
        "        pywrapknapsack_solver.KnapsackSolver.\n",
        "        KNAPSACK_MULTIDIMENSION_BRANCH_AND_BOUND_SOLVER, 'KnapsackExample')\n",
        "\n",
        "    values, weights, capacities = arrange(data)\n",
        "\n",
        "    solver.Init(values, weights, capacities)\n",
        "    solver.set_time_limit(60)\n",
        "    optimalSol = False\n",
        "\n",
        "    start_time = time.time()\n",
        "    computed_value = solver.Solve()\n",
        "    stop_time = time.time()\n",
        "\n",
        "    total_time = stop_time - start_time\n",
        "    if total_time < 60:\n",
        "        optimalSol = True\n",
        "\n",
        "    total_weight = 0\n",
        "    for i in range(len(values)):\n",
        "        if solver.BestSolutionContains(i):\n",
        "            total_weight += weights[0][i]\n",
        "    return computed_value, total_weight, optimalSol"
      ],
      "execution_count": 8,
      "outputs": []
    },
    {
      "cell_type": "code",
      "metadata": {
        "colab": {
          "base_uri": "https://localhost:8080/"
        },
        "id": "FHvrxOJxWdYZ",
        "outputId": "8de16a34-f3d3-4d5b-c211-89e05e6b037c"
      },
      "source": [
        "import xlsxwriter\n",
        "\n",
        "# output\n",
        "workbook = xlsxwriter.Workbook('/content/result.xlsx')\n",
        "worksheet = workbook.add_worksheet()\n",
        " \n",
        "# Headlines\n",
        "worksheet.write('A1', 'Test case name')\n",
        "worksheet.write('B1', 'No. items')\n",
        "worksheet.write('C1', 'Total value')\n",
        "worksheet.write('D1', 'Total weight')\n",
        "worksheet.write('E1', 'Optimal?')\n",
        "row = 1\n",
        "column = 0\n",
        "\n",
        "# pre-iteration\n",
        "cases = ['n00050', 'n00100', 'n00200', 'n00500', 'n01000']\n",
        "itemNos = [50, 100, 200, 500, 1000]\n",
        "\n",
        "# iteration\n",
        "for dir in dirs:\n",
        "    for k, case in enumerate(cases):\n",
        "        f = os.path.join(path, dir, case, 'R01000/s000.kp')\n",
        "        data = getData(f)\n",
        "        totalValue, totalWeight, optimalSol = Solver(data)\n",
        "\n",
        "        name = dir\n",
        "        itemNo = itemNos[k]\n",
        "\n",
        "        worksheet.write(row, column, name)\n",
        "        worksheet.write(row, column + 1, itemNo)\n",
        "        worksheet.write(row, column + 2, totalValue)\n",
        "        worksheet.write(row, column + 3, totalWeight)\n",
        "        worksheet.write(row, column + 4, optimalSol)\n",
        "        row += 1\n",
        "\n",
        "        print(f + \" done.\")\n",
        "\n",
        "workbook.close()"
      ],
      "execution_count": 9,
      "outputs": [
        {
          "output_type": "stream",
          "name": "stdout",
          "text": [
            "/content/kplib/00Uncorrelated/n00050/R01000/s000.kp done.\n",
            "/content/kplib/00Uncorrelated/n00100/R01000/s000.kp done.\n",
            "/content/kplib/00Uncorrelated/n00200/R01000/s000.kp done.\n",
            "/content/kplib/00Uncorrelated/n00500/R01000/s000.kp done.\n",
            "/content/kplib/00Uncorrelated/n01000/R01000/s000.kp done.\n",
            "/content/kplib/01WeaklyCorrelated/n00050/R01000/s000.kp done.\n",
            "/content/kplib/01WeaklyCorrelated/n00100/R01000/s000.kp done.\n",
            "/content/kplib/01WeaklyCorrelated/n00200/R01000/s000.kp done.\n",
            "/content/kplib/01WeaklyCorrelated/n00500/R01000/s000.kp done.\n",
            "/content/kplib/01WeaklyCorrelated/n01000/R01000/s000.kp done.\n",
            "/content/kplib/02StronglyCorrelated/n00050/R01000/s000.kp done.\n",
            "/content/kplib/02StronglyCorrelated/n00100/R01000/s000.kp done.\n",
            "/content/kplib/02StronglyCorrelated/n00200/R01000/s000.kp done.\n",
            "/content/kplib/02StronglyCorrelated/n00500/R01000/s000.kp done.\n",
            "/content/kplib/02StronglyCorrelated/n01000/R01000/s000.kp done.\n",
            "/content/kplib/03InverseStronglyCorrelated/n00050/R01000/s000.kp done.\n",
            "/content/kplib/03InverseStronglyCorrelated/n00100/R01000/s000.kp done.\n",
            "/content/kplib/03InverseStronglyCorrelated/n00200/R01000/s000.kp done.\n",
            "/content/kplib/03InverseStronglyCorrelated/n00500/R01000/s000.kp done.\n",
            "/content/kplib/03InverseStronglyCorrelated/n01000/R01000/s000.kp done.\n",
            "/content/kplib/04AlmostStronglyCorrelated/n00050/R01000/s000.kp done.\n",
            "/content/kplib/04AlmostStronglyCorrelated/n00100/R01000/s000.kp done.\n",
            "/content/kplib/04AlmostStronglyCorrelated/n00200/R01000/s000.kp done.\n",
            "/content/kplib/04AlmostStronglyCorrelated/n00500/R01000/s000.kp done.\n",
            "/content/kplib/04AlmostStronglyCorrelated/n01000/R01000/s000.kp done.\n",
            "/content/kplib/05SubsetSum/n00050/R01000/s000.kp done.\n",
            "/content/kplib/05SubsetSum/n00100/R01000/s000.kp done.\n",
            "/content/kplib/05SubsetSum/n00200/R01000/s000.kp done.\n",
            "/content/kplib/05SubsetSum/n00500/R01000/s000.kp done.\n",
            "/content/kplib/05SubsetSum/n01000/R01000/s000.kp done.\n",
            "/content/kplib/06UncorrelatedWithSimilarWeights/n00050/R01000/s000.kp done.\n",
            "/content/kplib/06UncorrelatedWithSimilarWeights/n00100/R01000/s000.kp done.\n",
            "/content/kplib/06UncorrelatedWithSimilarWeights/n00200/R01000/s000.kp done.\n",
            "/content/kplib/06UncorrelatedWithSimilarWeights/n00500/R01000/s000.kp done.\n",
            "/content/kplib/06UncorrelatedWithSimilarWeights/n01000/R01000/s000.kp done.\n",
            "/content/kplib/07SpannerUncorrelated/n00050/R01000/s000.kp done.\n",
            "/content/kplib/07SpannerUncorrelated/n00100/R01000/s000.kp done.\n",
            "/content/kplib/07SpannerUncorrelated/n00200/R01000/s000.kp done.\n",
            "/content/kplib/07SpannerUncorrelated/n00500/R01000/s000.kp done.\n",
            "/content/kplib/07SpannerUncorrelated/n01000/R01000/s000.kp done.\n",
            "/content/kplib/08SpannerWeaklyCorrelated/n00050/R01000/s000.kp done.\n",
            "/content/kplib/08SpannerWeaklyCorrelated/n00100/R01000/s000.kp done.\n",
            "/content/kplib/08SpannerWeaklyCorrelated/n00200/R01000/s000.kp done.\n",
            "/content/kplib/08SpannerWeaklyCorrelated/n00500/R01000/s000.kp done.\n",
            "/content/kplib/08SpannerWeaklyCorrelated/n01000/R01000/s000.kp done.\n",
            "/content/kplib/09SpannerStronglyCorrelated/n00050/R01000/s000.kp done.\n",
            "/content/kplib/09SpannerStronglyCorrelated/n00100/R01000/s000.kp done.\n",
            "/content/kplib/09SpannerStronglyCorrelated/n00200/R01000/s000.kp done.\n",
            "/content/kplib/09SpannerStronglyCorrelated/n00500/R01000/s000.kp done.\n",
            "/content/kplib/09SpannerStronglyCorrelated/n01000/R01000/s000.kp done.\n",
            "/content/kplib/10MultipleStronglyCorrelated/n00050/R01000/s000.kp done.\n",
            "/content/kplib/10MultipleStronglyCorrelated/n00100/R01000/s000.kp done.\n",
            "/content/kplib/10MultipleStronglyCorrelated/n00200/R01000/s000.kp done.\n",
            "/content/kplib/10MultipleStronglyCorrelated/n00500/R01000/s000.kp done.\n",
            "/content/kplib/10MultipleStronglyCorrelated/n01000/R01000/s000.kp done.\n",
            "/content/kplib/11ProfitCeiling/n00050/R01000/s000.kp done.\n",
            "/content/kplib/11ProfitCeiling/n00100/R01000/s000.kp done.\n",
            "/content/kplib/11ProfitCeiling/n00200/R01000/s000.kp done.\n",
            "/content/kplib/11ProfitCeiling/n00500/R01000/s000.kp done.\n",
            "/content/kplib/11ProfitCeiling/n01000/R01000/s000.kp done.\n",
            "/content/kplib/12Circle/n00050/R01000/s000.kp done.\n",
            "/content/kplib/12Circle/n00100/R01000/s000.kp done.\n",
            "/content/kplib/12Circle/n00200/R01000/s000.kp done.\n",
            "/content/kplib/12Circle/n00500/R01000/s000.kp done.\n",
            "/content/kplib/12Circle/n01000/R01000/s000.kp done.\n"
          ]
        }
      ]
    }
  ]
}